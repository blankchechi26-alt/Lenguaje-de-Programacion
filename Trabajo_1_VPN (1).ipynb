{
  "nbformat": 4,
  "nbformat_minor": 0,
  "metadata": {
    "colab": {
      "provenance": []
    },
    "kernelspec": {
      "name": "python3",
      "display_name": "Python 3"
    },
    "language_info": {
      "name": "python"
    }
  },
  "cells": [
    {
      "cell_type": "markdown",
      "source": [
        "#**Explicación del Valor Presente Neto (VPN)**:\n",
        "\n",
        "\n",
        "El Valor Presente Neto (VPN) es una de las herramientas más utilizadas en la evaluación de proyectos de inversión. Es un indicador financiero que sirve para determinar la viabilidad de un proyecto, ya que calcula el valor actual de todos los flujos de caja futuros que generará, descontando la inversión inicial.\n",
        "\n",
        "En otras palabras, el VPN nos dice si un proyecto es rentable o no, basándose en la idea de que un dólar hoy vale más que un dólar en el futuro. Esto se debe a la inflación, el riesgo y el costo de oportunidad.\n",
        "\n",
        "\\[\n",
        "$$\n",
        "VPN = \\sum_{t=0}^{n} \\frac{C_t}{(1+r)^t} - C_0\n",
        "$$\n",
        "\\]\n",
        "\n",
        "## **Fórmula del Valor Presente Neto(VPN)**\n",
        "Donde:\n",
        "\n",
        "- \\(C_t\\) es el flujo de caja en el tiempo \\(t\\).\n",
        "- \\(r\\) es la tasa de descuento.\n",
        "- \\(n\\) es el número total de periodos.\n",
        "- \\(C_0\\) es la inversión inicial.\n",
        "\n",
        "**2.** La empresa está considerando un proyecto con una inversión inicial de 10,000 y espera recibir flujos de caja de $3,000 en cada uno de los próximos tres años. La tasa de descuento es del 5%.\n"
      ],
      "metadata": {
        "id": "TDqLPW41S7rs"
      }
    },
    {
      "cell_type": "code",
      "source": [
        "inversion_inicial= 10000\n",
        "Flujo_ano_1 = 3000\n",
        "Flujo_ano_2 = 3000\n",
        "Flujo_ano_3 = 3000\n",
        "Flujo_ano_4 = 3000\n",
        "Tasa_descuento = 0.05"
      ],
      "metadata": {
        "id": "-F76lUIWXKVK"
      },
      "execution_count": 1,
      "outputs": []
    },
    {
      "cell_type": "code",
      "source": [
        "  vpn=inversion_inicial\n",
        "  print(\"el valor de inversion inicial es:\",vpn)"
      ],
      "metadata": {
        "colab": {
          "base_uri": "https://localhost:8080/"
        },
        "id": "dDEhem6VeYcY",
        "outputId": "ae362b35-bc24-4398-8dc2-864c6acb0f8a"
      },
      "execution_count": null,
      "outputs": [
        {
          "output_type": "stream",
          "name": "stdout",
          "text": [
            "el valor de inversion inicial es: 10000\n"
          ]
        }
      ]
    },
    {
      "cell_type": "code",
      "source": [
        "vpn = (Flujo_ano_1 / (1 + Tasa_descuento)**1) + \\\n",
        "      (Flujo_ano_2 / (1 + Tasa_descuento)**2) + \\\n",
        "      (Flujo_ano_3 / (1 + Tasa_descuento)**3) - inversion_inicial\n",
        "\n",
        "print(\"el Valor Presente Neto (VPN) es:\", vpn)"
      ],
      "metadata": {
        "colab": {
          "base_uri": "https://localhost:8080/"
        },
        "id": "UrJ4YHoPfY1L",
        "outputId": "5b72bff1-d176-4bb0-fdba-a13515fccecc"
      },
      "execution_count": null,
      "outputs": [
        {
          "output_type": "stream",
          "name": "stdout",
          "text": [
            "el Valor Presente Neto (VPN) es: -1830.2559118885656\n"
          ]
        }
      ]
    },
    {
      "cell_type": "code",
      "source": [
        "if vpn > 0:\n",
        "    print(\"El proyecto es viable, ya que el VPN es positivo.\")\n",
        "else:\n",
        "    print(\"El proyecto no es viable, ya que el VPN es negativo.\")"
      ],
      "metadata": {
        "colab": {
          "base_uri": "https://localhost:8080/"
        },
        "id": "BAy91x5BgOPE",
        "outputId": "82232e2b-53ee-447e-deab-625f70647acb"
      },
      "execution_count": null,
      "outputs": [
        {
          "output_type": "stream",
          "name": "stdout",
          "text": [
            "El proyecto no es viable, ya que el VPN es negativo.\n"
          ]
        }
      ]
    },
    {
      "cell_type": "markdown",
      "source": [
        "[Link explicación VPN](https://www.rankia.cl/blog/analisis-ipsa/3892041-como-calcular-valor-presente-neto-ejemplos)"
      ],
      "metadata": {
        "id": "rWMCgBCSq5R3"
      }
    }
  ]
}